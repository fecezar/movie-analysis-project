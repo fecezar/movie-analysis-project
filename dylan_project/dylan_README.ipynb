{
 "cells": [
  {
   "cell_type": "markdown",
   "metadata": {},
   "source": [
    "# Analysis of Various Characteristics of Best Films in Recent Times \n"
   ]
  },
  {
   "cell_type": "markdown",
   "metadata": {},
   "source": [
    "## Table of Contents  \n",
    "\n",
    "* [General Info](#GeneralInfo)\n",
    "\n",
    " * [Technologies](#Technologies)\n",
    "  \n",
    "  * [Data Overview](#DataOverview)\n",
    "\n",
    "\n",
    "\n",
    "* [Questions, Insights & Recommendations](#Questions,Insights&Recommendations)\n",
    "\n",
    "\n",
    "* [Further Investigation](#FurtherInvestigation)\n",
    "\n",
    "\n",
    "* [Conclusion](#Conclusion)\n",
    "\n",
    "<a name=\"General Info\"/>\n",
    "\n",
    "<a name=\"Technologies\"/>\n",
    "\n",
    "<a name=\"DataOverview\"/>\n",
    "\n",
    "<a name=\"Questions,Insights&Recommendations\"/>\n",
    "\n",
    "<a name=\"FurtherInvestigation\"/>\n",
    "\n",
    "<a name=\"Conclusion\"/>"
   ]
  },
  {
   "cell_type": "markdown",
   "metadata": {},
   "source": [
    "## General Info\n"
   ]
  },
  {
   "cell_type": "markdown",
   "metadata": {},
   "source": [
    "The project was assigned as the final part of the Module 1 in Flatiron School's Data Science Program. The brief is detailed below:\n",
    "\n",
    "\"Microsoft sees all the big companies creating original video content, and they want to get in on the fun. They have decided to create a new movie studio, but the problem is they don’t know anything about creating movies. They have hired you to help them better understand the movie industry. Your team is charged with doing data analysis and creating a presentation that explores what type of films are currently doing the best at the box office. You must then translate those findings into actionable insights that the CEO can use when deciding what type of films they should be creating.\""
   ]
  },
  {
   "cell_type": "markdown",
   "metadata": {},
   "source": [
    "The project centers around the hypothetical scenario in which Microsoft is entering the movie production business. As a Data Scientist I have been tasked with analysing public movie databases (Rotten Tomatoes, IMDB, TMDB, and Box Office Mojo) and determining what characteristics of films make them do\"best\" at box office. It was our decision to use profit and gross as the predominant indicators of success. We explored several characteristic's impact to film's box office grossing and profit."
   ]
  },
  {
   "cell_type": "markdown",
   "metadata": {},
   "source": [
    "![alt text here](https://chinalawblog.lexblogplatform.com/wp-content/uploads/sites/110/2016/03/film-money.jpg)\n",
    "\n"
   ]
  },
  {
   "cell_type": "markdown",
   "metadata": {},
   "source": [
    "### Technologies "
   ]
  },
  {
   "cell_type": "markdown",
   "metadata": {},
   "source": [
    "This project was created using the following languages and libraries. An environment with the correct versions of the following allows for re-production and improvement on this project.\n",
    "\n",
    "* Python version: 3.6.9\n",
    " * glob\n",
    " * os\n",
    " \n",
    " \n",
    "* Matplotlib version: 3.1.1\n",
    "\n",
    "\n",
    "* Pandas version: 3.1.1\n",
    "\n",
    "\n",
    "* Numpy version: 1.16.5\n",
    "\n",
    "\n",
    "* Seaborn version: 0.9.0\n",
    "\n"
   ]
  },
  {
   "cell_type": "markdown",
   "metadata": {},
   "source": [
    "### Data Overview"
   ]
  },
  {
   "cell_type": "markdown",
   "metadata": {},
   "source": [
    "The datasets included a wide range of related data as below in .csv files:\n",
    "\n",
    "* Box Office Mojo:\n",
    "\n",
    "   - bom.movie_gross.csv.gz\n",
    "  \n",
    "  \n",
    "* IMDB:          <img align=\"right\" width=\"300\" height=\"300\" src=\"https://upload.wikimedia.org/wikipedia/commons/thumb/6/69/IMDB_Logo_2016.svg/1200px-IMDB_Logo_2016.svg.png\">\n",
    "\n",
    "  - imdb.title.crew.csv.gz\n",
    "  - imdb.title.akas.csv.gz\n",
    "  - imdb.title.ratings.csv.gz\n",
    "  - imdb.name.basics.csv.gz\n",
    "  - imdb.title.basics.csv.gz\n",
    "  - imdb.title.principals.csv.gz\n",
    "  \n",
    "  \n",
    "* TMDB:\n",
    "\n",
    "  - tmdb.movies.csv.gz\n",
    "  \n",
    "  \n",
    "* The Numbers:\n",
    "\n",
    "  - tn.movie_budgets.csv.gz\n",
    "  \n",
    "  \n",
    " "
   ]
  },
  {
   "cell_type": "markdown",
   "metadata": {},
   "source": [
    "After initial analysis and some data cleaning, the datasets which we used for our analysis were:\n",
    "\n",
    "* tn.movie_budgets.csv.gz for __financial & studio data__\n",
    "\n",
    "\n",
    "* bom.movie_gross.csv.gz for __financial data__\n",
    "\n",
    "\n",
    "* imdb.title.basics.csv.gz for __genre data__\n",
    "\n",
    "\n",
    "* imdb.title.akas.csv.gz for __Directors, Actors & Producers data__\n"
   ]
  },
  {
   "cell_type": "markdown",
   "metadata": {},
   "source": [
    "## Questions, Insights & Recommendations"
   ]
  },
  {
   "cell_type": "markdown",
   "metadata": {},
   "source": [
    "### Don't discount Genre, if you're looking to make money..."
   ]
  },
  {
   "cell_type": "markdown",
   "metadata": {},
   "source": [
    "Right, we couldn't start without having a look at what genres make the most money. There are many types of genre, each averaging a wide distribution of profit since 2010. Based on the data available, the top 5 averaging film genres were War, Adventure, Fantasy, Action and Family. Interestingly, Adventure films tend to average more than twice as much profit to Thriller, Animation and Documentary. The average of profit was taken to account for the number of films produced in each genre. We assumed that the mean would be the most reliable average with the data we had, and another assumption was that films have a single genre."
   ]
  },
  {
   "cell_type": "markdown",
   "metadata": {},
   "source": [
    "![alt text here](dylan_new_images/genre.png)"
   ]
  },
  {
   "cell_type": "markdown",
   "metadata": {},
   "source": [
    "Taking a look at the top 12 genres over time, we are able to paint a picture of the total amount of profit produced by each genre over the years (2010 - 2018). Action has produced the most amount profit over the years, the majority of the time. This graph could be considered a reflection of whether genres have been increasing or decreasing in popularity in recent times. From 2016 - 2018, Action films have been producing a steep increase in Total Profit."
   ]
  },
  {
   "cell_type": "markdown",
   "metadata": {},
   "source": [
    "![alt text here](dylan_new_images/top12.png)"
   ]
  },
  {
   "cell_type": "markdown",
   "metadata": {},
   "source": [
    "Our recommendation would be, if you are looking for a gamble then Adventure, War and Fantasy could produce some great results. The leading profit genres (Action, Drama, Adventure) paint the more reliable story, and genre Action appears to be increasing in popularity."
   ]
  },
  {
   "cell_type": "markdown",
   "metadata": {},
   "source": [
    "### You have plenty of competition!"
   ]
  },
  {
   "cell_type": "markdown",
   "metadata": {},
   "source": [
    "The movie production industry is a competitive arena, and to be the best you have to beat the best. We've taken a deeper dive into which studios will be our most successful competitors. Based on the data available, Walt Disney has been a leader in total gross production between 2015-2018, followed by Universal Studios and Warner Brothers. Here we assumed that the Total Gross produced by a Studio would be an indicator of whether they are a market leader.\n"
   ]
  },
  {
   "cell_type": "markdown",
   "metadata": {},
   "source": [
    "| Abbreviation     | Studio                                    |\n",
    "|-----------------|-------------------------------------------|\n",
    "|        Uni.     | Universal Pictures                        |\n",
    "| Fox             |        20th Century Fox                   |\n",
    "| WB              | Warner Bros.                              |\n",
    "| BV              | Walt Disney Studios                       |\n",
    "| Sum.            |         Summit   Entertainment            |\n",
    "| Sony            |        Sony Pictures Motion Picture Group |\n",
    "| Par.            |        Paramount Pictures                 |\n",
    "| P/DW            |        DreamWorks Pictures                |\n",
    "| WB (NL)         | New Line Cinema                           |\n",
    "| LGF             |        Lionsgate Films                    |"
   ]
  },
  {
   "cell_type": "markdown",
   "metadata": {},
   "source": [
    "![alt text here](dylan_new_images/studio.png)"
   ]
  },
  {
   "cell_type": "markdown",
   "metadata": {},
   "source": [
    "Below we have considered the types and number of films that our competitors are making. Universal Studios and 20th Century Fox have produced the largest amount leading films by gross, their focus has been on Action and Drama. All through the list, there is a common theme of the leaders producing films in the genres of Action, Drama and Comedy. We would recommend doing the same for consistent results."
   ]
  },
  {
   "cell_type": "markdown",
   "metadata": {},
   "source": [
    "                   The Types of Films Industry Leaders are Making"
   ]
  },
  {
   "cell_type": "markdown",
   "metadata": {},
   "source": [
    "![alt text here](dylan_new_images/studio2.png)"
   ]
  },
  {
   "cell_type": "markdown",
   "metadata": {},
   "source": [
    "### Make sure you pick the movie's Director wisely!"
   ]
  },
  {
   "cell_type": "markdown",
   "metadata": {},
   "source": [
    "Directors, actors, producers - there's so many things to think about. People's opinions tend to differ when it comes to what makes a great movie, a common discussion tends to focus around these 3 roles. So we decided to have a look at if there were common themes amongst the leaders in these fields. In the data below, we have shown a comparison of top 1%/10%/Rest of these job roles effect on average grossing. From the graphs above, it appears directors have the most impact on grossing. The proportion between top 1% and the rest is more skewed for directors than actors, producers, or top movies. Saying that, the results of all 3 are similar."
   ]
  },
  {
   "cell_type": "markdown",
   "metadata": {},
   "source": [
    "![alt text here](dylan_new_images/director.png)"
   ]
  },
  {
   "cell_type": "markdown",
   "metadata": {},
   "source": [
    "The charts below are not radically different. However, we can note that:\n",
    "The bottom 25% of professionals present worse financial performances than the bottom 25% of all movies. We can thus infer that low performing professionals have an out sized negative impact on the financial performance of a movie."
   ]
  },
  {
   "cell_type": "markdown",
   "metadata": {},
   "source": [
    "![alt text here](dylan_new_images/director3.png)"
   ]
  },
  {
   "cell_type": "markdown",
   "metadata": {},
   "source": [
    "## Further Investigation"
   ]
  },
  {
   "cell_type": "markdown",
   "metadata": {},
   "source": [
    "### Investigate further into Film Finances"
   ]
  },
  {
   "cell_type": "markdown",
   "metadata": {},
   "source": [
    "Typically film production datasets do not go that deep, and tend to the very well guarded. From further exploration of what exactly goes into a film production budget and whether they are all encompassing, it would provide a more colourful picture into the accuracy of the data provided in these datasets. I'd be interested in scraping more financial data from additional sources and going more granular.\n",
    "\n"
   ]
  },
  {
   "cell_type": "markdown",
   "metadata": {},
   "source": [
    "### The Netflix Effect"
   ]
  },
  {
   "cell_type": "markdown",
   "metadata": {},
   "source": [
    "With more time and data, it would be interesting to explore the effects streaming platforms are having on box office profits in the film industry. This could lead to some interesting insights around partnerships. Furthermore, a discovery into what these types of films would recommend making based on their own data would be super helpful."
   ]
  },
  {
   "cell_type": "markdown",
   "metadata": {},
   "source": [
    "### Understand The Success Metric"
   ]
  },
  {
   "cell_type": "markdown",
   "metadata": {},
   "source": [
    "We've only considered two metrics for the 'best' types of movies, which we decided would be profit and grossing. There are multiple variables that can be explored. To mention a few:\n",
    "\n",
    "* ROI\n",
    "* Ratings\n",
    "* Views on streaming platforms"
   ]
  },
  {
   "cell_type": "markdown",
   "metadata": {},
   "source": [
    "## Conclusion"
   ]
  },
  {
   "cell_type": "markdown",
   "metadata": {},
   "source": [
    "\n",
    "Preparation, modeling, visualisation and interpretation of the data, allowed us to conduct analysis of the movies that have been created since 2010. \n",
    "\n",
    "__Key Takeaways__\n",
    "\n",
    "* Adventure films on average are the most profitable\n",
    "\n",
    "* The industry leaders preferred creating Action, Drama & Comedy films\n",
    "\n",
    "* Director choice will have the most impact on grossing\n",
    "\n",
    "Thank you for taking the time to read through this movie exploration."
   ]
  }
 ],
 "metadata": {
  "kernelspec": {
   "display_name": "Python 3",
   "language": "python",
   "name": "python3"
  },
  "language_info": {
   "codemirror_mode": {
    "name": "ipython",
    "version": 3
   },
   "file_extension": ".py",
   "mimetype": "text/x-python",
   "name": "python",
   "nbconvert_exporter": "python",
   "pygments_lexer": "ipython3",
   "version": "3.6.9"
  },
  "toc": {
   "base_numbering": 1,
   "nav_menu": {},
   "number_sections": true,
   "sideBar": true,
   "skip_h1_title": false,
   "title_cell": "Table of Contents",
   "title_sidebar": "Contents",
   "toc_cell": false,
   "toc_position": {},
   "toc_section_display": true,
   "toc_window_display": false
  },
  "varInspector": {
   "cols": {
    "lenName": 16,
    "lenType": 16,
    "lenVar": 40
   },
   "kernels_config": {
    "python": {
     "delete_cmd_postfix": "",
     "delete_cmd_prefix": "del ",
     "library": "var_list.py",
     "varRefreshCmd": "print(var_dic_list())"
    },
    "r": {
     "delete_cmd_postfix": ") ",
     "delete_cmd_prefix": "rm(",
     "library": "var_list.r",
     "varRefreshCmd": "cat(var_dic_list()) "
    }
   },
   "types_to_exclude": [
    "module",
    "function",
    "builtin_function_or_method",
    "instance",
    "_Feature"
   ],
   "window_display": false
  }
 },
 "nbformat": 4,
 "nbformat_minor": 2
}
